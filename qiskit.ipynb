{
 "cells": [
  {
   "metadata": {
    "ExecuteTime": {
     "end_time": "2025-05-07T05:36:56.889984Z",
     "start_time": "2025-05-07T05:36:56.567713Z"
    }
   },
   "cell_type": "code",
   "outputs": [
    {
     "name": "stdout",
     "output_type": "stream",
     "text": [
      "{'11': 495, '00': 529}\n"
     ]
    },
    {
     "data": {
      "text/plain": [
       "<Figure size 580.387x284.278 with 1 Axes>"
      ],
      "image/png": "[encoded data removed]"
     },
     "execution_count": 11,
     "metadata": {},
     "output_type": "execute_result"
    }
   ],
   "execution_count": 11,
   "source": [
    "from qiskit import QuantumCircuit\n",
    "from qiskit_aer import AerSimulator\n",
    "from qiskit import transpile\n",
    "\n",
    "qc = QuantumCircuit(2)\n",
    "qc.h(0)\n",
    "qc.cx(0, 1)\n",
    "qc.measure_all()\n",
    "\n",
    "backend = AerSimulator()\n",
    "compiled_circuit = transpile(qc, backend)\n",
    "job = backend.run(compiled_circuit, shots=1024)\n",
    "result = job.result()\n",
    "\n",
    "counts = result.get_counts()\n",
    "print(counts)\n",
    "qc.draw('mpl')"
   ],
   "id": "d5a2478bdfc68c5f"
  },
  {
   "metadata": {
    "ExecuteTime": {
     "end_time": "2025-05-07T08:51:34.745448Z",
     "start_time": "2025-05-07T08:38:38.122121Z"
    }
   },
   "cell_type": "code",
   "source": [
    "from qiskit import QuantumCircuit, transpile\n",
    "from qiskit_ibm_runtime import QiskitRuntimeService, Session, Sampler\n",
    "from qiskit.visualization import plot_histogram\n",
    "\n",
    "token = '305e471266b0db457d340a56e115563920d06ea4046cc76f3f1139a377cabb925155287ab75a77c0885b605aa1535d340143b1bcf461d3a8ef3a516c93ce0b08'\n",
    "\n",
    "# 1. IBM Quantum 계정 로드 및 Runtime Service 객체 생성\n",
    "# save_account를 사용하여 이전에 계정 정보를 저장했다면 이 코드로 불러옵니다.\n",
    "# 저장하지 않았다면 QiskitRuntimeService(token='YOUR_API_TOKEN') 와 같이 직접 토큰을 입력합니다.\n",
    "try:\n",
    "    service = QiskitRuntimeService(channel='ibm_quantum', token=token)\n",
    "    print(\"IBM Quantum Runtime Service에 연결되었습니다.\")\n",
    "except Exception as e:\n",
    "    print(f\"IBM Quantum Runtime Service 연결 오류: {e}\")\n",
    "    print(\"계정 정보가 올바르게 저장되었거나, token을 직접 입력했는지 확인하세요.\")\n",
    "    exit() # 연결 실패 시 스크립트 종료\n",
    "\n",
    "# 2. 백엔드 설정\n",
    "available_backends = service.backends(simulator=False, operational=True)\n",
    "\n",
    "print(\"\\n사용 가능한 백엔드 목록:\")\n",
    "if available_backends:\n",
    "    for backend in available_backends:\n",
    "        # 각 백엔드 객체에는 name 속성이 있습니다.\n",
    "        print(f\"- 이름: {backend.name}, 상태: {'Operational' if backend.status().operational else 'Non-operational'}, 큐비트 수: {backend.num_qubits if hasattr(backend, 'num_qubits') else 'N/A'}\")\n",
    "else:\n",
    "    print(\"사용 가능한 백엔드가 없습니다. 계정 상태를 확인하거나 접근 권한이 있는지 확인하세요.\")\n",
    "\n",
    "backend_name = available_backends[0].name\n",
    "\n",
    "try:\n",
    "    backend = service.backend(backend_name) # <-- 백엔드 이름으로 객체를 가져옴\n",
    "    print(f\"\\n선택된 백엔드 객체: {backend.name}\")\n",
    "except Exception as e:\n",
    "    print(f\"\\n오류: 백엔드 '{backend_name}'를 찾거나 접근할 수 없습니다.\")\n",
    "    print(e)\n",
    "    exit() # 백엔드를 찾지 못하면 종료\n",
    "\n",
    "# 3. 양자 회로 정의 (기존 코드와 동일)\n",
    "qc = QuantumCircuit(2)\n",
    "qc.h(0)\n",
    "qc.cx(0, 1)\n",
    "qc.measure_all()\n",
    "\n",
    "# 4. 선택된 IBM 백엔드에 맞게 회로 컴파일 (Transpile)\n",
    "# transpile 함수는 백엔드 객체 대신 백엔드 이름 문자열을 인자로 받을 수도 있습니다.\n",
    "compiled_circuit = transpile(qc, backend) # 백엔드 이름(문자열)을 전달\n",
    "\n",
    "# 5. Runtime Session 및 Sampler 사용하여 회로 실행 <--- 이 부분이 크게 변경됩니다.\n",
    "print(f\"\\nRuntime Sampler를 사용하여 백엔드 '{backend_name}'에서 회로를 실행합니다...\")\n",
    "\n",
    "# Session을 생성합니다. Session은 특정 백엔드에서 여러 작업을 효율적으로 실행하기 위한 컨텍스트를 제공합니다.\n",
    "# 'with' 문을 사용하면 세션이 자동으로 종료됩니다.\n",
    "with Session(backend=backend) as session:\n",
    "    # Session 내에서 Sampler Primitive를 생성합니다.\n",
    "    # Sampler는 측정 결과를 얻는 데 사용됩니다.\n",
    "    sampler = Sampler(mode=session)\n",
    "\n",
    "    # Sampler를 사용하여 컴파일된 회로를 실행합니다.\n",
    "    # run 메서드는 실행할 회로 목록(리스트 형태)과 shots 수를 인자로 받습니다.\n",
    "    job = sampler.run(pubs=[compiled_circuit], shots=2)\n",
    "\n",
    "    # 작업 완료 대기 (Runtime 작업 대기)\n",
    "    print(f\"Sampler 작업 ID: {job.job_id()}\")\n",
    "    print(\"작업이 완료될 때까지 기다립니다...\")\n",
    "\n",
    "    # 작업 결과 가져오기 (SamplerJobResult 객체 반환)\n",
    "    result = job.result()\n",
    "\n",
    "# 6. 결과 확인\n",
    "counts = result[0].join_data().get_counts()\n",
    "print(\"\\n측정 결과 (Counts):\")\n",
    "print(counts)\n",
    "print(\"\\n측정 요청 시간:\")\n",
    "print(result[0].metadata['time_requested'])\n",
    "print(\"\\n측정 완료 시간:\")\n",
    "print(result[0].metadata['time_completed'])\n",
    "\n",
    "# 로컬 시각화 (이 부분은 로컬 환경에서 실행됩니다)\n",
    "qc.draw('mpl') # 그림 그리기는 로컬에서 처리\n",
    "plot_histogram(counts) # 히스토그램 시각화"
   ],
   "id": "db9bf6292b255429",
   "outputs": [
    {
     "name": "stderr",
     "output_type": "stream",
     "text": [
      "/var/folders/pp/vfc9qwjn6zj_6n_xhdmtvsgr0000gn/T/ipykernel_70641/891067208.py:12: DeprecationWarning: The \"ibm_quantum\" channel option is deprecated and will be sunset on 1 July. After this date, ibm_cloud will be the only valid channel. For information on migrating to the new IBM Quantum Platform on the \"ibm_cloud\" channel, review the migration guide https://quantum.cloud.ibm.com/docs/migration-guides/classic-iqp-to-cloud-iqp .\n",
      "  service = QiskitRuntimeService(channel=channel, token=token)\n"
     ]
    },
    {
     "name": "stdout",
     "output_type": "stream",
     "text": [
      "IBM Quantum Runtime Service에 연결되었습니다.\n",
      "\n",
      "사용 가능한 백엔드 목록:\n",
      "- 이름: ibm_brisbane, 상태: Operational, 큐비트 수: 127\n",
      "- 이름: ibm_sherbrooke, 상태: Operational, 큐비트 수: 127\n",
      "\n",
      "선택된 백엔드 객체: ibm_brisbane\n",
      "\n",
      "Runtime Sampler를 사용하여 백엔드 'ibm_brisbane'에서 회로를 실행합니다...\n",
      "Sampler 작업 ID: d0dhr9hnhqag008q9e20\n",
      "작업이 완료될 때까지 기다립니다...\n",
      "\n",
      "측정 결과 (Counts):\n",
      "{'00': 2}\n"
     ]
    },
    {
     "data": {
      "text/plain": [
       "<Figure size 640x480 with 1 Axes>"
      ],
      "image/png": "[encoded data removed]"
     },
     "execution_count": 17,
     "metadata": {},
     "output_type": "execute_result"
    }
   ],
   "execution_count": 17
  }
 ],
 "metadata": {
  "kernelspec": {
   "display_name": "Python Quantum",
   "language": "python",
   "name": "quantum"
  },
  "language_info": {
   "codemirror_mode": {
    "name": "ipython",
    "version": 3
   },
   "file_extension": ".py",
   "mimetype": "text/x-python",
   "name": "python",
   "nbconvert_exporter": "python",
   "pygments_lexer": "ipython3",
   "version": "3.13.2"
  }
 },
 "nbformat": 4,
 "nbformat_minor": 5
}
